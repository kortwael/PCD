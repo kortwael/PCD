{
 "cells": [
  {
   "cell_type": "code",
   "execution_count": 1,
   "metadata": {},
   "outputs": [],
   "source": [
    "import os \n",
    "from keras_vggface.vggface import VGGFace\n",
    "import tensorflow as tf\n",
    "import numpy as np\n",
    "import cv2\n",
    "import pickle\n",
    "from scipy.spatial import distance\n"
   ]
  },
  {
   "cell_type": "code",
   "execution_count": 2,
   "metadata": {},
   "outputs": [],
   "source": [
    "def process(x):\n",
    "    x = tf.keras.preprocessing.image.img_to_array(x)\n",
    "    x = np.expand_dims(x, axis=0)\n",
    "    x = vgg_features(x)\n",
    "    return x\n",
    "\n",
    "    "
   ]
  },
  {
   "cell_type": "code",
   "execution_count": 3,
   "metadata": {},
   "outputs": [],
   "source": [
    "cascade = cv2.CascadeClassifier('haarcascade_frontalface_alt2.xml')\n",
    "vgg_features = VGGFace(model='resnet50', include_top=False, input_shape=(224, 224, 3),\n",
    "                               pooling='avg')  "
   ]
  },
  {
   "cell_type": "code",
   "execution_count": 5,
   "metadata": {},
   "outputs": [],
   "source": [
    "def openim(path):\n",
    "    img_arr = cv2.imread(path)[...,::-1] \n",
    "    faces = cascade.detectMultiScale(cv2.cvtColor(img_arr, cv2.COLOR_BGR2GRAY), 1.1, 7)\n",
    "    for x,y,z,w in faces:\n",
    "        imgs=img_arr[y:y+z,x:x+w]\n",
    "        resized_arr = cv2.resize(imgs, (224, 224)) # Reshaping images to preferred size\n",
    "        return(process(resized_arr))\n",
    "       "
   ]
  },
  {
   "cell_type": "code",
   "execution_count": 6,
   "metadata": {},
   "outputs": [],
   "source": [
    "im=openim('karam2.jpg')"
   ]
  },
  {
   "cell_type": "code",
   "execution_count": 7,
   "metadata": {},
   "outputs": [],
   "source": [
    "with open('faces.pkl', 'rb') as file:\n",
    "    d=pickle.load(file)"
   ]
  },
  {
   "cell_type": "code",
   "execution_count": 8,
   "metadata": {},
   "outputs": [],
   "source": [
    "dist=[]\n",
    "for i in d.values():\n",
    "    dist.append(distance.cosine(im,i))\n",
    "m=min(dist)\n"
   ]
  },
  {
   "cell_type": "code",
   "execution_count": 9,
   "metadata": {},
   "outputs": [],
   "source": [
    "if m<0.4:\n",
    "    i=dist.index(m)\n",
    "    person=list(d.keys())[i]\n",
    "else:\n",
    "    person='no match found'\n",
    "    "
   ]
  },
  {
   "cell_type": "code",
   "execution_count": 10,
   "metadata": {},
   "outputs": [
    {
     "data": {
      "text/plain": [
       "'karam'"
      ]
     },
     "execution_count": 10,
     "metadata": {},
     "output_type": "execute_result"
    }
   ],
   "source": [
    "person"
   ]
  },
  {
   "cell_type": "code",
   "execution_count": 11,
   "metadata": {},
   "outputs": [],
   "source": [
    "def getperson(im,d):\n",
    "    dist=[]\n",
    "    for i in d.values():\n",
    "        dist.append(distance.cosine(im,i))\n",
    "    m=min(dist)\n",
    "    if m<0.45:\n",
    "        i=dist.index(m)\n",
    "        person=list(d.keys())[i]\n",
    "    else:\n",
    "        person='no match found'\n",
    "    return person\n"
   ]
  },
  {
   "cell_type": "code",
   "execution_count": 12,
   "metadata": {},
   "outputs": [
    {
     "name": "stdout",
     "output_type": "stream",
     "text": [
      "karam\n"
     ]
    }
   ],
   "source": [
    "print(getperson(im,d))"
   ]
  },
  {
   "cell_type": "code",
   "execution_count": null,
   "metadata": {},
   "outputs": [],
   "source": []
  }
 ],
 "metadata": {
  "kernelspec": {
   "display_name": "Python 3",
   "language": "python",
   "name": "python3"
  },
  "language_info": {
   "codemirror_mode": {
    "name": "ipython",
    "version": 3
   },
   "file_extension": ".py",
   "mimetype": "text/x-python",
   "name": "python",
   "nbconvert_exporter": "python",
   "pygments_lexer": "ipython3",
   "version": "3.8.5"
  }
 },
 "nbformat": 4,
 "nbformat_minor": 4
}
