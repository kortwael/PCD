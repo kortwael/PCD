{
 "cells": [
  {
   "cell_type": "code",
   "execution_count": 3,
   "metadata": {},
   "outputs": [],
   "source": [
    "import os \n",
    "from keras_vggface.vggface import VGGFace\n",
    "import tensorflow as tf\n",
    "import numpy as np\n",
    "import cv2\n",
    "import json\n",
    "import pickle\n",
    "from keras_vggface import utils\n"
   ]
  },
  {
   "cell_type": "code",
   "execution_count": 4,
   "metadata": {},
   "outputs": [],
   "source": [
    "def process(x):\n",
    "    x = tf.keras.preprocessing.image.img_to_array(x)\n",
    "    x = np.expand_dims(x, axis=0)\n",
    "    x = utils.preprocess_input(x, version=1)\n",
    "    x = vgg_features(x)\n",
    "  \n",
    "    return x"
   ]
  },
  {
   "cell_type": "code",
   "execution_count": 5,
   "metadata": {},
   "outputs": [],
   "source": [
    "cascade = cv2.CascadeClassifier('haarcascade_frontalface_alt2.xml')\n",
    "vgg_features = VGGFace(model='resnet50', include_top=False, input_shape=(224, 224, 3),\n",
    "                               pooling='avg')  \n",
    "data={}\n",
    "for img in os.listdir('faces'):\n",
    "    img_arr = cv2.imread(os.path.join('faces', img))[...,::-1] \n",
    "    faces = cascade.detectMultiScale(cv2.cvtColor(img_arr, cv2.COLOR_BGR2GRAY), 1.1, 7)\n",
    "    for x,y,z,w in faces:\n",
    "        imgs=img_arr[y:y+z,x:x+w]\n",
    "        resized_arr = cv2.resize(imgs, (224, 224)) # Reshaping images to preferred size\n",
    "        f_name,f_ext=os.path.splitext(img)\n",
    "        resized_arr=process(resized_arr)\n",
    "        data[f_name]=resized_arr\n"
   ]
  },
  {
   "cell_type": "code",
   "execution_count": 6,
   "metadata": {},
   "outputs": [
    {
     "name": "stdout",
     "output_type": "stream",
     "text": [
      "{'ala': <tf.Tensor: shape=(1, 2048), dtype=float32, numpy=\n",
      "array([[4.9675307 , 0.02435563, 0.        , ..., 0.        , 0.01845832,\n",
      "        5.199515  ]], dtype=float32)>, 'da71': <tf.Tensor: shape=(1, 2048), dtype=float32, numpy=\n",
      "array([[0.        , 0.148412  , 0.41774505, ..., 0.        , 0.06885757,\n",
      "        3.266035  ]], dtype=float32)>, 'haythem': <tf.Tensor: shape=(1, 2048), dtype=float32, numpy=\n",
      "array([[0.40612856, 9.22104   , 0.        , ..., 0.33715704, 0.        ,\n",
      "        2.8523674 ]], dtype=float32)>, 'karam': <tf.Tensor: shape=(1, 2048), dtype=float32, numpy=\n",
      "array([[0.        , 0.44186747, 0.21304277, ..., 0.        , 0.01507156,\n",
      "        0.        ]], dtype=float32)>}\n"
     ]
    }
   ],
   "source": [
    "print(data)"
   ]
  },
  {
   "cell_type": "code",
   "execution_count": 7,
   "metadata": {},
   "outputs": [],
   "source": [
    "with open('faces.pkl', 'wb') as file:\n",
    "      \n",
    "    # A new file will be created\n",
    "    pickle.dump(data, file)"
   ]
  },
  {
   "cell_type": "code",
   "execution_count": 8,
   "metadata": {},
   "outputs": [
    {
     "ename": "NameError",
     "evalue": "name 'app_json' is not defined",
     "output_type": "error",
     "traceback": [
      "\u001b[1;31m---------------------------------------------------------------------------\u001b[0m",
      "\u001b[1;31mNameError\u001b[0m                                 Traceback (most recent call last)",
      "\u001b[1;32m<ipython-input-8-5696d9b4216a>\u001b[0m in \u001b[0;36m<module>\u001b[1;34m\u001b[0m\n\u001b[1;32m----> 1\u001b[1;33m \u001b[0mtype\u001b[0m\u001b[1;33m(\u001b[0m\u001b[0mapp_json\u001b[0m\u001b[1;33m)\u001b[0m\u001b[1;33m\u001b[0m\u001b[1;33m\u001b[0m\u001b[0m\n\u001b[0m",
      "\u001b[1;31mNameError\u001b[0m: name 'app_json' is not defined"
     ]
    }
   ],
   "source": []
  },
  {
   "cell_type": "code",
   "execution_count": 9,
   "metadata": {},
   "outputs": [],
   "source": [
    "with open('faces.pkl', 'rb') as file:\n",
    "    d=pickle.load(file)"
   ]
  },
  {
   "cell_type": "code",
   "execution_count": null,
   "metadata": {},
   "outputs": [],
   "source": []
  }
 ],
 "metadata": {
  "kernelspec": {
   "display_name": "Python 3",
   "language": "python",
   "name": "python3"
  },
  "language_info": {
   "codemirror_mode": {
    "name": "ipython",
    "version": 3
   },
   "file_extension": ".py",
   "mimetype": "text/x-python",
   "name": "python",
   "nbconvert_exporter": "python",
   "pygments_lexer": "ipython3",
   "version": "3.8.5"
  }
 },
 "nbformat": 4,
 "nbformat_minor": 4
}
